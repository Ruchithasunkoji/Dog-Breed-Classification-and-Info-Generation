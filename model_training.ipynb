{
  "nbformat": 4,
  "nbformat_minor": 0,
  "metadata": {
    "colab": {
      "provenance": [],
      "authorship_tag": "ABX9TyMt3VZ28fIRY7U5ST/V09Xv",
      "include_colab_link": true
    },
    "kernelspec": {
      "name": "python3",
      "display_name": "Python 3"
    },
    "language_info": {
      "name": "python"
    }
  },
  "cells": [
    {
      "cell_type": "markdown",
      "metadata": {
        "id": "view-in-github",
        "colab_type": "text"
      },
      "source": [
        "<a href=\"https://colab.research.google.com/github/Ruchithasunkoji/Dog-Breed-Classification-and-Info-Generation/blob/main/model_training.ipynb\" target=\"_parent\"><img src=\"https://colab.research.google.com/assets/colab-badge.svg\" alt=\"Open In Colab\"/></a>"
      ]
    },
    {
      "cell_type": "markdown",
      "source": [
        "Traing the dataset by taking 50 images from 10 breeds"
      ],
      "metadata": {
        "id": "BbSCppWGnzlU"
      }
    },
    {
      "cell_type": "code",
      "source": [
        "# STEP 1 — Mount Google Drive\n",
        "from google.colab import drive\n",
        "drive.mount('/content/drive')\n"
      ],
      "metadata": {
        "colab": {
          "base_uri": "https://localhost:8080/"
        },
        "id": "blvImlpXpqKV",
        "outputId": "dab23b96-ef6f-4364-b5dc-65427000c3fa"
      },
      "execution_count": null,
      "outputs": [
        {
          "output_type": "stream",
          "name": "stdout",
          "text": [
            "Mounted at /content/drive\n"
          ]
        }
      ]
    },
    {
      "cell_type": "code",
      "source": [
        "import os\n",
        "import cv2\n",
        "import zipfile\n",
        "import numpy as np\n",
        "import random\n",
        "from sklearn.model_selection import train_test_split, GridSearchCV\n",
        "from sklearn.preprocessing import LabelEncoder, StandardScaler\n",
        "from sklearn.linear_model import LogisticRegression\n",
        "from sklearn.metrics import accuracy_score"
      ],
      "metadata": {
        "id": "JzXUskXrzcB2"
      },
      "execution_count": null,
      "outputs": []
    },
    {
      "cell_type": "code",
      "source": [
        "# ✅ 2. Path to your dataset ZIP file (change this to your actual path)\n",
        "zip_path = \"/content/drive/MyDrive/StanfordDogs/stanford_dogs_cleaned.zip\"\n",
        "extract_path = \"/content/dogs_dataset\""
      ],
      "metadata": {
        "id": "7f45n1h4qks8"
      },
      "execution_count": null,
      "outputs": []
    },
    {
      "cell_type": "code",
      "source": [
        "# ✅ 3. Unzip dataset if not already extracted\n",
        "if not os.path.exists(extract_path):\n",
        "    with zipfile.ZipFile(zip_path, 'r') as zip_ref:\n",
        "        zip_ref.extractall(extract_path)"
      ],
      "metadata": {
        "id": "h1gk0x_tqxnU"
      },
      "execution_count": null,
      "outputs": []
    },
    {
      "cell_type": "code",
      "source": [
        "import os\n",
        "import cv2\n",
        "import numpy as np\n",
        "import random\n",
        "from skimage.feature import hog\n",
        "from sklearn.model_selection import train_test_split, GridSearchCV\n",
        "from sklearn.preprocessing import LabelEncoder, StandardScaler\n",
        "from sklearn.decomposition import PCA\n",
        "from sklearn.linear_model import LogisticRegression\n",
        "from sklearn.metrics import accuracy_score\n",
        "import warnings\n",
        "warnings.filterwarnings(\"ignore\")\n",
        "\n",
        "\n",
        "#  Dataset settings\n",
        "\n",
        "CLEANED_DIR = \"/content/dogs_dataset\"\n",
        "num_breeds = 10\n",
        "images_per_breed = 50\n",
        "img_size = (128,128)  # larger image → more detailed HOG\n",
        "\n",
        "\n",
        "# Select random 10 breeds\n",
        "\n",
        "all_breeds = [b for b in os.listdir(CLEANED_DIR) if os.path.isdir(os.path.join(CLEANED_DIR, b))]\n",
        "selected_breeds = random.sample(all_breeds, num_breeds)\n",
        "print(\"Selected breeds:\", selected_breeds)\n",
        "\n",
        "\n",
        "# Feature extraction: HOG + Color Histogram\n",
        "\n",
        "def extract_features(img_path):\n",
        "    img = cv2.imread(img_path)\n",
        "    if img is None:\n",
        "        return None\n",
        "    img = cv2.resize(img, img_size)\n",
        "\n",
        "    # Color histogram\n",
        "    hist_r = cv2.calcHist([img],[0],None,[32],[0,256])\n",
        "    hist_g = cv2.calcHist([img],[1],None,[32],[0,256])\n",
        "    hist_b = cv2.calcHist([img],[2],None,[32],[0,256])\n",
        "    color_features = np.concatenate([hist_r, hist_g, hist_b]).flatten()\n",
        "\n",
        "    # HOG features\n",
        "    gray = cv2.cvtColor(img, cv2.COLOR_BGR2GRAY)\n",
        "    hog_features = hog(gray, orientations=9, pixels_per_cell=(8,8),\n",
        "                       cells_per_block=(2,2), block_norm='L2-Hys')\n",
        "\n",
        "    # Combine features\n",
        "    features = np.concatenate([color_features, hog_features])\n",
        "    return features\n",
        "\n",
        "X, y = [], []\n",
        "\n",
        "for breed in selected_breeds:\n",
        "    breed_path = os.path.join(CLEANED_DIR, breed)\n",
        "    files = [f for f in os.listdir(breed_path) if f.lower().endswith((\".jpg\",\".png\"))]\n",
        "    selected_files = random.sample(files, min(len(files), images_per_breed))\n",
        "\n",
        "    for f in selected_files:\n",
        "        features = extract_features(os.path.join(breed_path, f))\n",
        "        if features is not None:\n",
        "            X.append(features)\n",
        "            y.append(breed)\n",
        "\n",
        "X = np.array(X)\n",
        "y = np.array(y)\n",
        "print(\"Feature matrix shape:\", X.shape)\n",
        "\n",
        "\n",
        "#  Encode labels & scale\n",
        "\n",
        "encoder = LabelEncoder()\n",
        "y_encoded = encoder.fit_transform(y)\n",
        "\n",
        "scaler = StandardScaler()\n",
        "X_scaled = scaler.fit_transform(X)\n",
        "\n",
        "\n",
        "#  PCA dimensionality reduction\n",
        "\n",
        "pca = PCA(n_components=0.95, svd_solver='full')\n",
        "X_pca = pca.fit_transform(X_scaled)\n",
        "print(\"Shape after PCA:\", X_pca.shape)\n",
        "\n",
        "\n",
        "#  Train-test split\n",
        "\n",
        "X_train, X_test, y_train, y_test = train_test_split(\n",
        "    X_pca, y_encoded, test_size=0.2, stratify=y_encoded, random_state=42\n",
        ")\n",
        "\n",
        "\n",
        "# Logistic Regression fine-tuning\n",
        "\n",
        "param_grid = {\n",
        "    \"C\": [0.1, 1, 10, 100],\n",
        "    \"solver\": [\"lbfgs\", \"liblinear\", \"saga\"],\n",
        "    \"max_iter\": [1000, 2000]\n",
        "}\n",
        "\n",
        "grid = GridSearchCV(LogisticRegression(multi_class=\"auto\"), param_grid, cv=3, scoring=\"accuracy\", n_jobs=-1)\n",
        "grid.fit(X_train, y_train)\n",
        "\n",
        "best_model = grid.best_estimator_\n",
        "print(f\"Best Logistic Regression params: {grid.best_params_}\")\n",
        "\n",
        "\n",
        "#  Evaluate\n",
        "\n",
        "y_pred = best_model.predict(X_test)\n",
        "acc = accuracy_score(y_test, y_pred)\n",
        "print(f\"✅ Logistic Regression Test Accuracy: {acc*100:.2f}%\")\n"
      ],
      "metadata": {
        "colab": {
          "base_uri": "https://localhost:8080/"
        },
        "id": "kW2q-My5ftQY",
        "outputId": "44952c0a-86d3-4fa3-b2ba-d58f3bb73a94"
      },
      "execution_count": null,
      "outputs": [
        {
          "output_type": "stream",
          "name": "stdout",
          "text": [
            "Selected breeds: ['n02086910-papillon', 'n02088364-beagle', 'n02096585-Boston_bull', 'n02112706-Brabancon_griffon', 'n02107142-Doberman', 'n02091831-Saluki', 'n02102973-Irish_water_spaniel', 'n02110627-affenpinscher', 'n02113186-Cardigan', 'n02116738-African_hunting_dog']\n",
            "Feature matrix shape: (500, 8196)\n",
            "Shape after PCA: (500, 405)\n",
            "Best Logistic Regression params: {'C': 10, 'max_iter': 2000, 'solver': 'saga'}\n",
            "✅ Logistic Regression Test Accuracy: 23.00%\n"
          ]
        }
      ]
    },
    {
      "cell_type": "code",
      "source": [],
      "metadata": {
        "id": "26yOHlPtjy-W"
      },
      "execution_count": null,
      "outputs": []
    }
  ]
}